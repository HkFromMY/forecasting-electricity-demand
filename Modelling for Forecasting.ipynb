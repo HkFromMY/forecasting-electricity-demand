{
 "cells": [
  {
   "cell_type": "code",
   "execution_count": 1,
   "id": "a0b0625d-2b3a-42d8-8f8d-1fb43d8e2a60",
   "metadata": {},
   "outputs": [],
   "source": [
    "import numpy as np\n",
    "import pandas as pd\n",
    "import matplotlib.pyplot as plt\n",
    "import seaborn as sns"
   ]
  },
  {
   "cell_type": "code",
   "execution_count": 2,
   "id": "e86ac9c6-a223-4c31-b94a-98cd3d3d661a",
   "metadata": {},
   "outputs": [],
   "source": [
    "df = pd.read_csv('cleaned_data\\\\cleaned_df.csv', parse_dates=['tstp'])"
   ]
  },
  {
   "cell_type": "code",
   "execution_count": 19,
   "id": "cf8afc8a-dfbf-4621-bfc5-9373f96640bd",
   "metadata": {},
   "outputs": [
    {
     "data": {
      "text/plain": [
       "Index(['TRANSPORT_Travel To Work_Train / Tube / Tram',\n",
       "       'TRANSPORT_Travel To Work_Work mainly at or from home', 'date', 'Type',\n",
       "       'year', 'month', 'day', 'dayofweek_num', 'is_weekend', 'season',\n",
       "       'no_work', 'hour', 'at_home', 'shifted_energy_24h',\n",
       "       'shifted_energy_48h', 'shifted_energy_72h', 'shifted_energy_96h',\n",
       "       'shifted_energy_120h', 'shifted_energy_144h', 'shifted_energy_168h'],\n",
       "      dtype='object')"
      ]
     },
     "execution_count": 19,
     "metadata": {},
     "output_type": "execute_result"
    }
   ],
   "source": [
    "df.columns[-20:]"
   ]
  },
  {
   "cell_type": "code",
   "execution_count": 3,
   "id": "13eb9962-d29d-41f9-a7bd-d0be589e7b86",
   "metadata": {},
   "outputs": [],
   "source": [
    "columns_desired = ['tstp', 'energy(kWh/hh)', 'LCLid', 'stdorToU', 'Acorn', 'visibility',\n",
    "       'windBearing', 'temperature', 'dewPoint', 'pressure',\n",
    "       'apparentTemperature', 'windSpeed', 'precipType', 'humidity',\n",
    "       'summary', 'Type',\n",
    "       'year', 'month', 'day', 'dayofweek_num', 'is_weekend', 'season',\n",
    "       'no_work', 'hour', 'at_home', 'shifted_energy_24h',\n",
    "       'shifted_energy_48h', 'shifted_energy_72h', 'shifted_energy_96h',\n",
    "       'shifted_energy_120h', 'shifted_energy_144h', 'shifted_energy_168h']\n",
    "\n",
    "sampled_df = df[columns_desired]"
   ]
  },
  {
   "cell_type": "code",
   "execution_count": 33,
   "id": "8c71a076-9094-43e8-b5d1-82448e94f1e8",
   "metadata": {},
   "outputs": [
    {
     "data": {
      "text/plain": [
       "(11823, 32)"
      ]
     },
     "execution_count": 33,
     "metadata": {},
     "output_type": "execute_result"
    }
   ],
   "source": [
    "# get one of the household for simplicity\n",
    "\n",
    "singlehousehold_df = sampled_df.groupby(['LCLid'])\n",
    "singlehousehold_df = singlehousehold_df.get_group('MAC003686')\n",
    "singlehousehold_df.shape"
   ]
  },
  {
   "cell_type": "code",
   "execution_count": 34,
   "id": "c3342dc8-cd47-4536-915e-53e4e0d464db",
   "metadata": {},
   "outputs": [
    {
     "name": "stdout",
     "output_type": "stream",
     "text": [
      "X train shape: (9458, 47)\n",
      "X test shape: (2365, 50)\n",
      "y train shape: (9458,)\n",
      "y test shape: (2365,)\n"
     ]
    }
   ],
   "source": [
    "import math\n",
    "\n",
    "# one hot encoding\n",
    "singlehousehold_df = singlehousehold_df.join(pd.get_dummies(singlehousehold_df[['precipType', 'summary', 'Type']]))\n",
    "singlehousehold_df = singlehousehold_df.drop(['precipType', 'summary', 'Type'], axis=1)\n",
    "\n",
    "# get the first 80% and forecast the remaining 20%, must be in order\n",
    "cutoff_point = math.floor(singlehousehold_df.shape[0] * 0.8)\n",
    "training_singlehousehold_df = singlehousehold_df.iloc[:cutoff_point]\n",
    "testing_singlehousehold_df = singlehousehold_df.iloc[cutoff_point:]\n",
    "\n",
    "X_train = training_singlehousehold_df.drop(['tstp', 'LCLid', 'stdorToU', 'Acorn', 'energy(kWh/hh)'], axis=1)\n",
    "y_train = training_singlehousehold_df['energy(kWh/hh)']\n",
    "\n",
    "X_test = testing_singlehousehold_df.drop(['tstp', 'energy(kWh/hh)'], axis=1)\n",
    "y_test = testing_singlehousehold_df['energy(kWh/hh)']\n",
    "\n",
    "print(\"X train shape:\", X_train.shape)\n",
    "print(\"X test shape:\", X_test.shape)\n",
    "print(\"y train shape:\", y_train.shape)\n",
    "print(\"y test shape:\", y_test.shape)"
   ]
  },
  {
   "cell_type": "code",
   "execution_count": 35,
   "id": "bebd7ff5-8ed7-4428-8e0c-f8a7bd5a87e9",
   "metadata": {},
   "outputs": [],
   "source": [
    "### Prepare the data for LSTM\n",
    "def split_sequences(sequences, n_steps):\n",
    "    X, y = list(), list()\n",
    "    for i in range(len(sequences)):\n",
    "        end_ix = i + n_steps\n",
    "        if end_ix > len(sequences):\n",
    "            break\n",
    "\n",
    "        seq_x, seq_y = sequences[i:end_ix, :-1], sequences[end_ix-1, -1]\n",
    "        X.append(seq_x)\n",
    "        y.append(seq_y)\n",
    "\n",
    "    return np.array(X), np.array(y)"
   ]
  },
  {
   "cell_type": "code",
   "execution_count": 59,
   "id": "a43dc966-4e05-45d6-b2f4-0615cfa4a5f8",
   "metadata": {},
   "outputs": [
    {
     "data": {
      "text/plain": [
       "((9456, 3, 47), (9456,))"
      ]
     },
     "execution_count": 59,
     "metadata": {},
     "output_type": "execute_result"
    }
   ],
   "source": [
    "from numpy import hstack\n",
    "\n",
    "n_steps = 3 # use 3 days to predict the next days\n",
    "dataset = hstack((X_train.values, np.expand_dims(y_train.values, axis=1)))\n",
    "X, y = split_sequences(dataset, n_steps)\n",
    "X.shape, y.shape"
   ]
  },
  {
   "cell_type": "markdown",
   "id": "b9ad6895-c7fa-4c61-807c-87e9b47ec0af",
   "metadata": {},
   "source": [
    "\n",
    "### References for modelling in Tensorflow\n",
    "https://machinelearningmastery.com/how-to-develop-lstm-models-for-time-series-forecasting/  \n",
    "\n",
    "Can try:\n",
    "1. Encoder-Decoder\n",
    "2. CNN-LSTM\n",
    "3. ConvLSTM\n"
   ]
  },
  {
   "cell_type": "code",
   "execution_count": 65,
   "id": "6b8890e5-f065-4964-bbad-66d7f1333ac1",
   "metadata": {
    "scrolled": true
   },
   "outputs": [
    {
     "name": "stdout",
     "output_type": "stream",
     "text": [
      "WARNING:tensorflow:Layer lstm_7 will not use cuDNN kernels since it doesn't meet the criteria. It will use a generic GPU kernel as fallback when running on GPU.\n",
      "WARNING:tensorflow:Layer lstm_7 will not use cuDNN kernels since it doesn't meet the criteria. It will use a generic GPU kernel as fallback when running on GPU.\n",
      "WARNING:tensorflow:Layer lstm_7 will not use cuDNN kernels since it doesn't meet the criteria. It will use a generic GPU kernel as fallback when running on GPU.\n",
      "WARNING:tensorflow:Layer lstm_8 will not use cuDNN kernels since it doesn't meet the criteria. It will use a generic GPU kernel as fallback when running on GPU.\n",
      "WARNING:tensorflow:Layer lstm_8 will not use cuDNN kernels since it doesn't meet the criteria. It will use a generic GPU kernel as fallback when running on GPU.\n",
      "WARNING:tensorflow:Layer lstm_8 will not use cuDNN kernels since it doesn't meet the criteria. It will use a generic GPU kernel as fallback when running on GPU.\n",
      "Epoch 1/50\n",
      "296/296 [==============================] - 12s 33ms/step - loss: 0.6903 - mae: 0.6903 - mse: 8.1539 - mape: 128.1609\n",
      "Epoch 2/50\n",
      "296/296 [==============================] - 10s 32ms/step - loss: 0.3276 - mae: 0.3276 - mse: 0.3337 - mape: 44.2527\n",
      "Epoch 3/50\n",
      "296/296 [==============================] - 10s 32ms/step - loss: 0.3213 - mae: 0.3213 - mse: 0.3238 - mape: 43.6906\n",
      "Epoch 4/50\n",
      "296/296 [==============================] - 9s 32ms/step - loss: 0.3186 - mae: 0.3186 - mse: 0.3165 - mape: 43.8426\n",
      "Epoch 5/50\n",
      "296/296 [==============================] - 10s 32ms/step - loss: 0.3159 - mae: 0.3159 - mse: 0.3136 - mape: 42.9528\n",
      "Epoch 6/50\n",
      "296/296 [==============================] - 10s 33ms/step - loss: 0.3112 - mae: 0.3112 - mse: 0.3089 - mape: 42.2489\n",
      "Epoch 7/50\n",
      "296/296 [==============================] - 10s 33ms/step - loss: 0.3429 - mae: 0.3429 - mse: 0.4090 - mape: 47.8230\n",
      "Epoch 8/50\n",
      "296/296 [==============================] - 10s 34ms/step - loss: 0.3422 - mae: 0.3422 - mse: 0.3710 - mape: 42.9847\n",
      "Epoch 9/50\n",
      "296/296 [==============================] - 10s 33ms/step - loss: 0.3424 - mae: 0.3424 - mse: 0.3745 - mape: 42.2882\n",
      "Epoch 10/50\n",
      "296/296 [==============================] - 9s 32ms/step - loss: 0.3422 - mae: 0.3422 - mse: 0.3720 - mape: 42.7941\n",
      "Epoch 11/50\n",
      "296/296 [==============================] - 9s 31ms/step - loss: 0.3422 - mae: 0.3422 - mse: 0.3727 - mape: 42.5976\n",
      "Epoch 12/50\n",
      "296/296 [==============================] - 10s 34ms/step - loss: 0.3424 - mae: 0.3424 - mse: 0.3726 - mape: 42.6886\n",
      "Epoch 13/50\n",
      "296/296 [==============================] - 10s 35ms/step - loss: 0.3423 - mae: 0.3423 - mse: 0.3726 - mape: 42.6884\n",
      "Epoch 14/50\n",
      "296/296 [==============================] - 10s 33ms/step - loss: 0.3422 - mae: 0.3422 - mse: 0.3712 - mape: 42.9459\n",
      "Epoch 15/50\n",
      "296/296 [==============================] - 10s 34ms/step - loss: 0.3423 - mae: 0.3423 - mse: 0.3729 - mape: 42.6246\n",
      "Epoch 16/50\n",
      "296/296 [==============================] - 10s 33ms/step - loss: 0.3423 - mae: 0.3423 - mse: 0.3714 - mape: 42.9869\n",
      "Epoch 17/50\n",
      "296/296 [==============================] - 10s 34ms/step - loss: 0.3423 - mae: 0.3423 - mse: 0.3735 - mape: 42.4948\n",
      "Epoch 18/50\n",
      "296/296 [==============================] - 9s 30ms/step - loss: 0.3424 - mae: 0.3424 - mse: 0.3726 - mape: 42.7484\n",
      "Epoch 19/50\n",
      "296/296 [==============================] - 10s 32ms/step - loss: 0.3422 - mae: 0.3422 - mse: 0.3722 - mape: 42.7506\n",
      "Epoch 20/50\n",
      "296/296 [==============================] - 9s 32ms/step - loss: 0.3424 - mae: 0.3424 - mse: 0.3717 - mape: 42.9481\n",
      "Epoch 21/50\n",
      "296/296 [==============================] - 9s 32ms/step - loss: 0.3423 - mae: 0.3423 - mse: 0.3715 - mape: 42.9967\n",
      "Epoch 22/50\n",
      "296/296 [==============================] - 10s 33ms/step - loss: 0.3424 - mae: 0.3424 - mse: 0.3742 - mape: 42.4088\n",
      "Epoch 23/50\n",
      "296/296 [==============================] - 9s 31ms/step - loss: 0.3423 - mae: 0.3423 - mse: 0.3725 - mape: 42.7491\n",
      "Epoch 24/50\n",
      "296/296 [==============================] - 10s 34ms/step - loss: 0.3424 - mae: 0.3424 - mse: 0.3722 - mape: 42.8043\n",
      "Epoch 25/50\n",
      "296/296 [==============================] - 10s 35ms/step - loss: 0.3425 - mae: 0.3425 - mse: 0.3730 - mape: 42.6939\n",
      "Epoch 26/50\n",
      "296/296 [==============================] - 10s 35ms/step - loss: 0.3424 - mae: 0.3424 - mse: 0.3728 - mape: 42.6809\n",
      "Epoch 27/50\n",
      "296/296 [==============================] - 11s 36ms/step - loss: 0.3423 - mae: 0.3423 - mse: 0.3718 - mape: 42.8891\n",
      "Epoch 28/50\n",
      "296/296 [==============================] - 11s 36ms/step - loss: 0.3423 - mae: 0.3423 - mse: 0.3724 - mape: 42.7294\n",
      "Epoch 29/50\n",
      "296/296 [==============================] - 10s 33ms/step - loss: 0.3422 - mae: 0.3422 - mse: 0.3722 - mape: 42.7808\n",
      "Epoch 30/50\n",
      "296/296 [==============================] - 10s 35ms/step - loss: 0.3422 - mae: 0.3422 - mse: 0.3721 - mape: 42.7967\n",
      "Epoch 31/50\n",
      "296/296 [==============================] - 11s 36ms/step - loss: 0.3423 - mae: 0.3423 - mse: 0.3736 - mape: 42.4673\n",
      "Epoch 32/50\n",
      "296/296 [==============================] - 10s 34ms/step - loss: 0.3424 - mae: 0.3424 - mse: 0.3717 - mape: 42.9479\n",
      "Epoch 33/50\n",
      "296/296 [==============================] - 10s 35ms/step - loss: 0.3424 - mae: 0.3424 - mse: 0.3734 - mape: 42.5344\n",
      "Epoch 34/50\n",
      "296/296 [==============================] - 11s 36ms/step - loss: 0.3423 - mae: 0.3423 - mse: 0.3722 - mape: 42.8467\n",
      "Epoch 35/50\n",
      "296/296 [==============================] - 10s 35ms/step - loss: 0.3423 - mae: 0.3423 - mse: 0.3733 - mape: 42.5122\n",
      "Epoch 36/50\n",
      "296/296 [==============================] - 10s 35ms/step - loss: 0.3423 - mae: 0.3423 - mse: 0.3728 - mape: 42.6646\n",
      "Epoch 37/50\n",
      "296/296 [==============================] - 11s 36ms/step - loss: 0.3423 - mae: 0.3423 - mse: 0.3715 - mape: 42.9613\n",
      "Epoch 38/50\n",
      "296/296 [==============================] - 10s 35ms/step - loss: 0.3423 - mae: 0.3423 - mse: 0.3724 - mape: 42.7483\n",
      "Epoch 39/50\n",
      "296/296 [==============================] - 10s 35ms/step - loss: 0.3424 - mae: 0.3424 - mse: 0.3716 - mape: 42.9252\n",
      "Epoch 40/50\n",
      "296/296 [==============================] - 11s 36ms/step - loss: 0.3424 - mae: 0.3424 - mse: 0.3746 - mape: 42.2640\n",
      "Epoch 41/50\n",
      "296/296 [==============================] - 10s 35ms/step - loss: 0.3423 - mae: 0.3423 - mse: 0.3728 - mape: 42.6302\n",
      "Epoch 42/50\n",
      "296/296 [==============================] - 11s 36ms/step - loss: 0.3423 - mae: 0.3423 - mse: 0.3720 - mape: 42.8185\n",
      "Epoch 43/50\n",
      "296/296 [==============================] - 10s 35ms/step - loss: 0.3422 - mae: 0.3422 - mse: 0.3720 - mape: 42.8421\n",
      "Epoch 44/50\n",
      "296/296 [==============================] - 10s 35ms/step - loss: 0.3423 - mae: 0.3423 - mse: 0.3727 - mape: 42.6642\n",
      "Epoch 45/50\n",
      "296/296 [==============================] - 10s 35ms/step - loss: 0.3423 - mae: 0.3423 - mse: 0.3728 - mape: 42.6552\n",
      "Epoch 46/50\n",
      "296/296 [==============================] - 11s 35ms/step - loss: 0.3423 - mae: 0.3423 - mse: 0.3727 - mape: 42.6582\n",
      "Epoch 47/50\n",
      "296/296 [==============================] - 11s 36ms/step - loss: 0.3424 - mae: 0.3424 - mse: 0.3725 - mape: 42.7545\n",
      "Epoch 48/50\n",
      "296/296 [==============================] - 11s 35ms/step - loss: 0.3423 - mae: 0.3423 - mse: 0.3729 - mape: 42.6457\n",
      "Epoch 49/50\n",
      "296/296 [==============================] - 11s 35ms/step - loss: 0.3423 - mae: 0.3423 - mse: 0.3737 - mape: 42.4823\n",
      "Epoch 50/50\n",
      "296/296 [==============================] - 10s 35ms/step - loss: 0.3423 - mae: 0.3423 - mse: 0.3719 - mape: 42.8242\n"
     ]
    }
   ],
   "source": [
    "import tensorflow as tf\n",
    "from tensorflow.keras.models import Sequential\n",
    "from tensorflow.keras.layers import LSTM, Dense, Bidirectional\n",
    "\n",
    "tf.random.set_seed(42)\n",
    "\n",
    "model = Sequential([\n",
    "    Bidirectional(LSTM(units=128, activation=\"relu\", return_sequences=True, input_shape=(n_steps, 47))),\n",
    "    Bidirectional(LSTM(units=64, activation=\"relu\")),\n",
    "    Dense(100, activation=\"relu\"),\n",
    "    Dense(47)\n",
    "])\n",
    "\n",
    "model.compile(\n",
    "    loss=tf.keras.losses.MAE,\n",
    "    optimizer=tf.keras.optimizers.Adam(learning_rate=0.001),\n",
    "    metrics=['mae', 'mse', 'mape']\n",
    ")\n",
    "\n",
    "history = model.fit(\n",
    "    X,\n",
    "    y,\n",
    "    epochs=50,\n",
    "    batch_size=32\n",
    ")"
   ]
  },
  {
   "cell_type": "code",
   "execution_count": null,
   "id": "f172f2d2-6560-4316-ae92-e23abc34de71",
   "metadata": {},
   "outputs": [],
   "source": []
  },
  {
   "cell_type": "code",
   "execution_count": null,
   "id": "0e868d82-5a20-4861-b867-0f03912a005b",
   "metadata": {},
   "outputs": [],
   "source": []
  },
  {
   "cell_type": "code",
   "execution_count": null,
   "id": "c3e62031-e6e1-449d-aa5b-c0b8614a46ef",
   "metadata": {},
   "outputs": [],
   "source": []
  },
  {
   "cell_type": "code",
   "execution_count": null,
   "id": "3ed40824-72a9-4387-adfa-0c12ac908249",
   "metadata": {},
   "outputs": [],
   "source": []
  },
  {
   "cell_type": "code",
   "execution_count": null,
   "id": "9173d1a2-06f6-4a5b-a5db-bb4a62a9b301",
   "metadata": {},
   "outputs": [],
   "source": []
  }
 ],
 "metadata": {
  "kernelspec": {
   "display_name": "Python 3 (ipykernel)",
   "language": "python",
   "name": "python3"
  },
  "language_info": {
   "codemirror_mode": {
    "name": "ipython",
    "version": 3
   },
   "file_extension": ".py",
   "mimetype": "text/x-python",
   "name": "python",
   "nbconvert_exporter": "python",
   "pygments_lexer": "ipython3",
   "version": "3.10.9"
  }
 },
 "nbformat": 4,
 "nbformat_minor": 5
}
